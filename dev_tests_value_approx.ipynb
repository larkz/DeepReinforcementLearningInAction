{
 "cells": [
  {
   "cell_type": "code",
   "execution_count": 1,
   "metadata": {},
   "outputs": [],
   "source": [
    "from opt.value_estimator import *\n",
    "from environment.MarketEnv import *\n",
    "from common.RangeMap import *\n",
    "import numpy as np\n",
    "\n",
    "STATE_DIM = 2\n",
    "ACTION_DIM = 11\n",
    "BATCH_SIZE = 200\n",
    "\n",
    "marketEnv = MarketEnv(action_size = ACTION_DIM, max_price = 100, max_inventory = 5, n_agents = 3)\n",
    "\n"
   ]
  },
  {
   "cell_type": "code",
   "execution_count": 2,
   "metadata": {},
   "outputs": [
    {
     "data": {
      "text/plain": [
       "array([ 0.        ,  9.09090909, 18.18181818, 27.27272727, 36.36363636,\n",
       "       45.45454545, 54.54545455, 63.63636364, 72.72727273, 81.81818182,\n",
       "       90.90909091])"
      ]
     },
     "execution_count": 2,
     "metadata": {},
     "output_type": "execute_result"
    }
   ],
   "source": [
    "marketEnv.action_space"
   ]
  },
  {
   "cell_type": "code",
   "execution_count": 3,
   "metadata": {},
   "outputs": [],
   "source": [
    "range_dict = {\n",
    "    (0, 10): 0.10,\n",
    "    (10, 20): 0.10,\n",
    "    (20, 30): 0.10,\n",
    "    (30, 40): 0.10,\n",
    "    (40, 50): 0.10,\n",
    "    (50, 60): 0.10,\n",
    "    (60, 70): 0.10,\n",
    "    (70, 80): 0.10,\n",
    "    (80, 90): 0.10,\n",
    "    (90, 100): 0.10,\n",
    "}\n",
    "\n",
    "policy_dic = RangeMapDict(range_dict)"
   ]
  },
  {
   "cell_type": "code",
   "execution_count": 25,
   "metadata": {},
   "outputs": [
    {
     "data": {
      "text/plain": [
       "{(0, 10): 0.030935902739667495,\n",
       " (10, 20): 0.1005760739534132,\n",
       " (20, 30): 0.12075673135368556,\n",
       " (30, 40): 0.09921390822684259,\n",
       " (40, 50): 0.0895396411892591,\n",
       " (50, 60): 0.14095698913111263,\n",
       " (60, 70): 0.05988548586122622,\n",
       " (70, 80): 0.15304777960891985,\n",
       " (80, 90): 0.09803746281835181,\n",
       " (90, 100): 0.10705002511752161}"
      ]
     },
     "execution_count": 25,
     "metadata": {},
     "output_type": "execute_result"
    }
   ],
   "source": [
    "from opt.bbo_sim_anneal import *\n",
    "\n",
    "alt_dic = perturb_policy(policy_dic.range_dic)\n",
    "alt_dic"
   ]
  },
  {
   "cell_type": "code",
   "execution_count": 26,
   "metadata": {},
   "outputs": [
    {
     "data": {
      "text/plain": [
       "1.0"
      ]
     },
     "execution_count": 26,
     "metadata": {},
     "output_type": "execute_result"
    }
   ],
   "source": [
    "np.sum(list(alt_dic.values()))"
   ]
  },
  {
   "cell_type": "code",
   "execution_count": 6,
   "metadata": {},
   "outputs": [
    {
     "data": {
      "text/plain": [
       "True"
      ]
     },
     "execution_count": 6,
     "metadata": {},
     "output_type": "execute_result"
    }
   ],
   "source": [
    "all(v > 0.0 for v in policy_dic.range_dic.values())"
   ]
  },
  {
   "cell_type": "code",
   "execution_count": 7,
   "metadata": {},
   "outputs": [
    {
     "data": {
      "text/plain": [
       "1.0"
      ]
     },
     "execution_count": 7,
     "metadata": {},
     "output_type": "execute_result"
    }
   ],
   "source": [
    "np.sum(list(policy_dic.range_dic.values()))"
   ]
  },
  {
   "cell_type": "code",
   "execution_count": 8,
   "metadata": {},
   "outputs": [
    {
     "data": {
      "text/plain": [
       "(0, 10)"
      ]
     },
     "execution_count": 8,
     "metadata": {},
     "output_type": "execute_result"
    }
   ],
   "source": [
    "rand_index = np.random.choice(len(policy_dic.range_dic.keys()))\n",
    "\n",
    "list(policy_dic.range_dic.keys())[rand_index]"
   ]
  },
  {
   "cell_type": "code",
   "execution_count": 9,
   "metadata": {},
   "outputs": [],
   "source": [
    "# s -> n -> a\n",
    "na_policy_dict = dict()\n",
    "for n in range(marketEnv.n_agents):\n",
    "    na_policy_dict[n] = policy_dic\n",
    "\n",
    "# everyone same policy\n",
    "sna_policy_dict = dict()\n",
    "for s in range(marketEnv.state_space_size):\n",
    "    key = repr(list(marketEnv.state_space[s]))\n",
    "    sna_policy_dict[key] = na_policy_dict"
   ]
  },
  {
   "cell_type": "code",
   "execution_count": 10,
   "metadata": {},
   "outputs": [
    {
     "data": {
      "text/plain": [
       "0.1"
      ]
     },
     "execution_count": 10,
     "metadata": {},
     "output_type": "execute_result"
    }
   ],
   "source": [
    "sna_policy_dict[repr([0.0, 0.0, 0.0, 0.0])][1][34]"
   ]
  },
  {
   "cell_type": "code",
   "execution_count": 11,
   "metadata": {},
   "outputs": [
    {
     "data": {
      "text/plain": [
       "array([ 0.        ,  9.09090909, 18.18181818, 27.27272727, 36.36363636,\n",
       "       45.45454545, 54.54545455, 63.63636364, 72.72727273, 81.81818182,\n",
       "       90.90909091])"
      ]
     },
     "execution_count": 11,
     "metadata": {},
     "output_type": "execute_result"
    }
   ],
   "source": [
    "marketEnv.action_space"
   ]
  },
  {
   "cell_type": "code",
   "execution_count": 12,
   "metadata": {},
   "outputs": [],
   "source": [
    "value_vector, joint_action_vector = value_search_sample_policy_approx(marketEnv, sna_policy_dict, max_iter = 199)"
   ]
  },
  {
   "cell_type": "code",
   "execution_count": 13,
   "metadata": {},
   "outputs": [
    {
     "name": "stdout",
     "output_type": "stream",
     "text": [
      "[54.54545455 45.45454545 54.54545455]\n",
      "[0. 4. 0. 0.]\n",
      "0.09949025966513216\n"
     ]
    }
   ],
   "source": [
    "test_state_index = 4\n",
    "print(joint_action_vector[test_state_index])\n",
    "print(marketEnv.state_space[test_state_index])\n",
    "print(value_vector[test_state_index])"
   ]
  },
  {
   "cell_type": "code",
   "execution_count": 14,
   "metadata": {},
   "outputs": [
    {
     "data": {
      "text/plain": [
       "0.1"
      ]
     },
     "execution_count": 14,
     "metadata": {},
     "output_type": "execute_result"
    }
   ],
   "source": [
    "check_state = marketEnv.state_space[test_state_index]\n",
    "sna_policy_dict[repr(list(check_state))][0][21]"
   ]
  },
  {
   "cell_type": "code",
   "execution_count": null,
   "metadata": {},
   "outputs": [],
   "source": []
  }
 ],
 "metadata": {
  "interpreter": {
   "hash": "870cddec6c8f45879887843070bc4155360ee9973f7ea74b4418fb17767bd17a"
  },
  "kernelspec": {
   "display_name": "Python 3.8.10 ('.dqn-cpu-env': venv)",
   "language": "python",
   "name": "python3"
  },
  "language_info": {
   "codemirror_mode": {
    "name": "ipython",
    "version": 3
   },
   "file_extension": ".py",
   "mimetype": "text/x-python",
   "name": "python",
   "nbconvert_exporter": "python",
   "pygments_lexer": "ipython3",
   "version": "3.8.10"
  },
  "orig_nbformat": 4
 },
 "nbformat": 4,
 "nbformat_minor": 2
}
