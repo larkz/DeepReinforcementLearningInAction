{
 "cells": [
  {
   "cell_type": "code",
   "execution_count": 1,
   "metadata": {},
   "outputs": [],
   "source": [
    "from opt.value_estimator import *\n",
    "from environment.MarketEnv import *\n",
    "from common.RangeMap import *\n",
    "import numpy as np\n",
    "from opt.bbo_sim_anneal import *\n",
    "\n",
    "\n",
    "STATE_DIM = 2\n",
    "ACTION_DIM = 4\n",
    "BATCH_SIZE = 200\n",
    "\n",
    "marketEnv = MarketEnv(action_size = ACTION_DIM, max_price = 100, max_inventory = 2, n_agents = 3)\n",
    "\n",
    "range_dict = {\n",
    "    (0, 10): 0.10,\n",
    "    (10, 20): 0.10,\n",
    "    (20, 30): 0.10,\n",
    "    (30, 40): 0.10,\n",
    "    (40, 50): 0.10,\n",
    "    (50, 60): 0.10,\n",
    "    (60, 70): 0.10,\n",
    "    (70, 80): 0.10,\n",
    "    (80, 90): 0.10,\n",
    "    (90, 100): 0.10,\n",
    "}\n",
    "\n",
    "policy_dic = RangeMapDict(range_dict)\n",
    "\n",
    "# s -> n -> a\n",
    "na_policy_dict = dict()\n",
    "for n in range(marketEnv.n_agents):\n",
    "    na_policy_dict[n] = policy_dic\n",
    "\n",
    "# everyone same policy\n",
    "sna_policy_dict = dict()\n",
    "for s in range(marketEnv.state_space_size):\n",
    "    key = repr(list(marketEnv.state_space[s]))\n",
    "    sna_policy_dict[key] = na_policy_dict"
   ]
  },
  {
   "cell_type": "code",
   "execution_count": 2,
   "metadata": {},
   "outputs": [
    {
     "data": {
      "text/plain": [
       "array([ 0., 25., 50., 75.])"
      ]
     },
     "execution_count": 2,
     "metadata": {},
     "output_type": "execute_result"
    }
   ],
   "source": [
    "marketEnv.action_space"
   ]
  },
  {
   "cell_type": "code",
   "execution_count": 3,
   "metadata": {},
   "outputs": [],
   "source": [
    "value_vector, joint_action_vector = value_search_sample_policy_approx(marketEnv, sna_policy_dict, max_iter = 199)"
   ]
  },
  {
   "cell_type": "code",
   "execution_count": 4,
   "metadata": {},
   "outputs": [
    {
     "name": "stdout",
     "output_type": "stream",
     "text": [
      "[50. 50. 50.]\n",
      "[0. 0. 1. 0.]\n",
      "0.10393366271819425\n"
     ]
    }
   ],
   "source": [
    "test_state_index = 4\n",
    "print(joint_action_vector[test_state_index])\n",
    "print(marketEnv.state_space[test_state_index])\n",
    "print(value_vector[test_state_index])"
   ]
  },
  {
   "cell_type": "code",
   "execution_count": 5,
   "metadata": {},
   "outputs": [
    {
     "data": {
      "text/plain": [
       "0.1"
      ]
     },
     "execution_count": 5,
     "metadata": {},
     "output_type": "execute_result"
    }
   ],
   "source": [
    "check_state = marketEnv.state_space[test_state_index]\n",
    "sna_policy_dict[repr(list(check_state))][0][21]"
   ]
  },
  {
   "cell_type": "code",
   "execution_count": 6,
   "metadata": {},
   "outputs": [
    {
     "data": {
      "text/plain": [
       "array([0.10283005, 0.09819384, 0.09745649, 0.10104839, 0.10393366,\n",
       "       0.10281414, 0.10048995, 0.10004202, 0.10294739, 0.10102188,\n",
       "       0.10075792, 0.10044854, 0.10444912, 0.10179398, 0.10128287,\n",
       "       0.10216546, 0.10036944, 0.0983699 , 0.1021822 , 0.10129827,\n",
       "       0.10267142, 0.10275927, 0.1008089 , 0.09885483, 0.10305004,\n",
       "       0.10075015, 0.10130068, 0.10015049, 0.10202255, 0.10335185,\n",
       "       0.1011269 , 0.10237477])"
      ]
     },
     "execution_count": 6,
     "metadata": {},
     "output_type": "execute_result"
    }
   ],
   "source": [
    "value_vector"
   ]
  },
  {
   "cell_type": "code",
   "execution_count": 7,
   "metadata": {},
   "outputs": [],
   "source": [
    "state_key = repr(list(marketEnv.state_space[test_state_index]))\n",
    "\n",
    "epsilon, value_cur_policy = sim_anneal_optimize(marketEnv, sna_policy_dict)"
   ]
  },
  {
   "cell_type": "code",
   "execution_count": 8,
   "metadata": {},
   "outputs": [
    {
     "data": {
      "text/plain": [
       "{(0, 10): 0.1,\n",
       " (10, 20): 0.1,\n",
       " (20, 30): 0.1,\n",
       " (30, 40): 0.1,\n",
       " (40, 50): 0.1,\n",
       " (50, 60): 0.1,\n",
       " (60, 70): 0.1,\n",
       " (70, 80): 0.1,\n",
       " (80, 90): 0.1,\n",
       " (90, 100): 0.1}"
      ]
     },
     "execution_count": 8,
     "metadata": {},
     "output_type": "execute_result"
    }
   ],
   "source": [
    "sna_policy_dict[state_key][1].range_dic"
   ]
  },
  {
   "cell_type": "code",
   "execution_count": 10,
   "metadata": {},
   "outputs": [
    {
     "data": {
      "text/plain": [
       "array([0.17275808, 0.16239458, 0.15820139, 0.15460117, 0.14675146,\n",
       "       0.15550911, 0.16704244, 0.15639966, 0.15501168, 0.16551202,\n",
       "       0.15362868, 0.14984565, 0.15278566, 0.16792837, 0.14643232,\n",
       "       0.17371683, 0.12686941, 0.14939596, 0.15710854, 0.16522195,\n",
       "       0.15469406, 0.16087735, 0.15024456, 0.13926345, 0.16029849,\n",
       "       0.15865946, 0.16280007, 0.17393234, 0.13252643, 0.14853824,\n",
       "       0.16540366, 0.15749721])"
      ]
     },
     "execution_count": 10,
     "metadata": {},
     "output_type": "execute_result"
    }
   ],
   "source": [
    "epsilon"
   ]
  },
  {
   "cell_type": "code",
   "execution_count": 11,
   "metadata": {},
   "outputs": [
    {
     "data": {
      "text/plain": [
       "array([0.09606762, 0.10011156, 0.09825664, 0.10164757, 0.10056532,\n",
       "       0.1050419 , 0.10120446, 0.10299962, 0.09821973, 0.09939792,\n",
       "       0.10106925, 0.09698442, 0.10048358, 0.09611009, 0.10147068,\n",
       "       0.10227849, 0.09875356, 0.10003877, 0.10103759, 0.09643417,\n",
       "       0.10005487, 0.09933747, 0.10228385, 0.09784394, 0.09800244,\n",
       "       0.1014091 , 0.10165551, 0.10221709, 0.0969811 , 0.09952829,\n",
       "       0.10050191, 0.09661014])"
      ]
     },
     "execution_count": 11,
     "metadata": {},
     "output_type": "execute_result"
    }
   ],
   "source": [
    "value_cur_policy"
   ]
  },
  {
   "cell_type": "code",
   "execution_count": null,
   "metadata": {},
   "outputs": [],
   "source": []
  }
 ],
 "metadata": {
  "interpreter": {
   "hash": "870cddec6c8f45879887843070bc4155360ee9973f7ea74b4418fb17767bd17a"
  },
  "kernelspec": {
   "display_name": "Python 3.8.10 ('.dqn-cpu-env': venv)",
   "language": "python",
   "name": "python3"
  },
  "language_info": {
   "codemirror_mode": {
    "name": "ipython",
    "version": 3
   },
   "file_extension": ".py",
   "mimetype": "text/x-python",
   "name": "python",
   "nbconvert_exporter": "python",
   "pygments_lexer": "ipython3",
   "version": "3.8.10"
  },
  "orig_nbformat": 4
 },
 "nbformat": 4,
 "nbformat_minor": 2
}
