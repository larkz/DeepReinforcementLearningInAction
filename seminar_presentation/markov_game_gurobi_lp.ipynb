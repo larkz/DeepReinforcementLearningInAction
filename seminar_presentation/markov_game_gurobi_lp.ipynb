{
 "cells": [
  {
   "cell_type": "code",
   "execution_count": 25,
   "metadata": {},
   "outputs": [],
   "source": [
    "# Linear Programming MDP Solution\n",
    "\n",
    "import numpy as np\n",
    "import gurobipy as gp\n",
    "from gurobipy import GRB\n",
    "\n",
    "# val_constr = np.array([[0.0, 1.0, -1.0, -1.0],\n",
    "#     [-1.0, 0.0, 1.0, -1.0],\n",
    "#     [1.0, -1.0, 0.0, -1.0]])\n",
    "\n",
    "val_constr = np.array([[0, 2, -1],\n",
    "    [-2, 0, 1],\n",
    "    [1, -1, 0]])\n",
    "\n",
    "prob_constr = np.array([1, 1, 1])\n",
    "\n",
    "num_v_constr = val_constr.shape[0]\n",
    "num_var = val_constr.shape[1]\n",
    "num_actions = prob_constr.shape[0]"
   ]
  },
  {
   "cell_type": "code",
   "execution_count": 26,
   "metadata": {},
   "outputs": [
    {
     "name": "stdout",
     "output_type": "stream",
     "text": [
      "Gurobi Optimizer version 9.5.1 build v9.5.1rc2 (linux64)\n",
      "Thread count: 4 physical cores, 8 logical processors, using up to 8 threads\n",
      "Optimize a model with 4 rows, 4 columns and 12 nonzeros\n",
      "Model fingerprint: 0x81bb5c04\n",
      "Coefficient statistics:\n",
      "  Matrix range     [1e+00, 2e+00]\n",
      "  Objective range  [1e+00, 1e+00]\n",
      "  Bounds range     [0e+00, 0e+00]\n",
      "  RHS range        [1e+00, 1e+00]\n",
      "Presolve removed 1 rows and 1 columns\n",
      "Presolve time: 0.00s\n",
      "Presolved: 3 rows, 3 columns, 9 nonzeros\n",
      "\n",
      "Iteration    Objective       Primal Inf.    Dual Inf.      Time\n",
      "       0    2.0000000e+00   1.250000e+00   0.000000e+00      0s\n",
      "       2    1.0000000e+00   0.000000e+00   0.000000e+00      0s\n",
      "\n",
      "Solved in 2 iterations and 0.00 seconds (0.00 work units)\n",
      "Optimal objective  1.000000000e+00\n"
     ]
    }
   ],
   "source": [
    "\n",
    "# LP model\n",
    "\n",
    "m = gp.Model(\"MDP\")\n",
    "pi = {}\n",
    "\n",
    "\n",
    "for i in range(num_var):\n",
    "    pi[i] = m.addVar(obj=1, name='pi-' + str(i))\n",
    "\n",
    "v = m.addVar(obj=1, name='v')\n",
    "\n",
    "for i in range(num_v_constr): \n",
    "    m.addConstr(sum(val_constr[i, p]*pi[p] for p in range(num_v_constr)) >= v )\n",
    "\n",
    "m.addConstr(sum(prob_constr[p]*pi[p] for p in range(num_actions)) == 1)\n",
    "m.modelsense=0\n",
    "\n",
    "# m.setObjective(sum over i, sum over a r[i][a] * x[i][a], GRB.MINIMIZE)\n",
    "\n",
    "m.optimize()"
   ]
  },
  {
   "cell_type": "code",
   "execution_count": 27,
   "metadata": {},
   "outputs": [
    {
     "data": {
      "text/plain": [
       "[<gurobi.Var pi-0 (value 0.25000000000000006)>,\n",
       " <gurobi.Var pi-1 (value 0.25)>,\n",
       " <gurobi.Var pi-2 (value 0.5000000000000001)>,\n",
       " <gurobi.Var v (value 0.0)>]"
      ]
     },
     "execution_count": 27,
     "metadata": {},
     "output_type": "execute_result"
    }
   ],
   "source": [
    "m.getVars()"
   ]
  },
  {
   "cell_type": "code",
   "execution_count": null,
   "metadata": {},
   "outputs": [],
   "source": []
  }
 ],
 "metadata": {
  "interpreter": {
   "hash": "870cddec6c8f45879887843070bc4155360ee9973f7ea74b4418fb17767bd17a"
  },
  "kernelspec": {
   "display_name": "Python 3.8.10 ('.dqn-cpu-env': venv)",
   "language": "python",
   "name": "python3"
  },
  "language_info": {
   "codemirror_mode": {
    "name": "ipython",
    "version": 3
   },
   "file_extension": ".py",
   "mimetype": "text/x-python",
   "name": "python",
   "nbconvert_exporter": "python",
   "pygments_lexer": "ipython3",
   "version": "3.8.10"
  },
  "orig_nbformat": 4
 },
 "nbformat": 4,
 "nbformat_minor": 2
}
