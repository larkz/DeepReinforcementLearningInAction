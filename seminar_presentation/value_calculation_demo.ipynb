{
 "cells": [
  {
   "cell_type": "code",
   "execution_count": 107,
   "metadata": {},
   "outputs": [],
   "source": [
    "import numpy as np"
   ]
  },
  {
   "cell_type": "code",
   "execution_count": 108,
   "metadata": {},
   "outputs": [],
   "source": [
    "r = np.array( [[[3, 0], [6, 0]], [[2,0], [1, 0]]])\n",
    "\n",
    "t = np.array( [[[[1,0], [0, 1]], [[1/3, 2/3], [0, 1]]], [[[1, 0], [0, 1]], [[1, 0], [0, 1]]]])"
   ]
  },
  {
   "cell_type": "code",
   "execution_count": 109,
   "metadata": {},
   "outputs": [
    {
     "data": {
      "text/plain": [
       "array([[3, 6],\n",
       "       [2, 1]])"
      ]
     },
     "execution_count": 109,
     "metadata": {},
     "output_type": "execute_result"
    }
   ],
   "source": [
    "# r a1, a2, s\n",
    "r[:,:, 0]"
   ]
  },
  {
   "cell_type": "code",
   "execution_count": 110,
   "metadata": {},
   "outputs": [
    {
     "data": {
      "text/plain": [
       "array([0.33333333, 0.66666667])"
      ]
     },
     "execution_count": 110,
     "metadata": {},
     "output_type": "execute_result"
    }
   ],
   "source": [
    "# t a1, a2, s, s_next\n",
    "t[0, 1, 0]"
   ]
  },
  {
   "cell_type": "code",
   "execution_count": 111,
   "metadata": {},
   "outputs": [],
   "source": [
    "p0 =[[0, 1], [1, 0]]\n",
    "\n",
    "p1_0 =[[1, 0], [1, 0]]\n",
    "p1_1 =[[0, 1], [1, 0]]\n"
   ]
  },
  {
   "cell_type": "code",
   "execution_count": 112,
   "metadata": {},
   "outputs": [],
   "source": [
    "p_0_1_0 = np.array([[1/3, 2/3],[0, 1]])\n",
    "p_0_1_1 = np.array([[1, 0],[0, 1]])"
   ]
  },
  {
   "cell_type": "code",
   "execution_count": 113,
   "metadata": {},
   "outputs": [
    {
     "data": {
      "text/plain": [
       "array([[1.33333333, 2.66666667],\n",
       "       [0.        , 4.        ]])"
      ]
     },
     "execution_count": 113,
     "metadata": {},
     "output_type": "execute_result"
    }
   ],
   "source": [
    "disc_fac = 3/4\n",
    "Pinv_0_1_0 =np.linalg.inv(np.identity(2) - disc_fac * p_0_1_0)\n",
    "Pinv_0_1_0"
   ]
  },
  {
   "cell_type": "code",
   "execution_count": 114,
   "metadata": {},
   "outputs": [
    {
     "data": {
      "text/plain": [
       "array([6, 0])"
      ]
     },
     "execution_count": 114,
     "metadata": {},
     "output_type": "execute_result"
    }
   ],
   "source": [
    "r_0_1_0 =  np.array([6, 0])\n",
    "r_0_1_0"
   ]
  },
  {
   "cell_type": "code",
   "execution_count": 115,
   "metadata": {},
   "outputs": [
    {
     "data": {
      "text/plain": [
       "array([8., 0.])"
      ]
     },
     "execution_count": 115,
     "metadata": {},
     "output_type": "execute_result"
    }
   ],
   "source": [
    "np.matmul(Pinv_0_1_0, r_0_1_0)"
   ]
  },
  {
   "cell_type": "code",
   "execution_count": 116,
   "metadata": {},
   "outputs": [],
   "source": [
    "r_0_1_1 =  np.array([1, 0])"
   ]
  }
 ],
 "metadata": {
  "interpreter": {
   "hash": "870cddec6c8f45879887843070bc4155360ee9973f7ea74b4418fb17767bd17a"
  },
  "kernelspec": {
   "display_name": "Python 3.8.10 ('.dqn-cpu-env': venv)",
   "language": "python",
   "name": "python3"
  },
  "language_info": {
   "codemirror_mode": {
    "name": "ipython",
    "version": 3
   },
   "file_extension": ".py",
   "mimetype": "text/x-python",
   "name": "python",
   "nbconvert_exporter": "python",
   "pygments_lexer": "ipython3",
   "version": "3.8.10"
  },
  "orig_nbformat": 4
 },
 "nbformat": 4,
 "nbformat_minor": 2
}
