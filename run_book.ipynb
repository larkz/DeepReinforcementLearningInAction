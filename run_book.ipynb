{
 "cells": [
  {
   "cell_type": "code",
   "execution_count": 1,
   "metadata": {},
   "outputs": [
    {
     "name": "stdout",
     "output_type": "stream",
     "text": [
      "Already up to date.\r\n"
     ]
    }
   ],
   "source": [
    "!git pull"
   ]
  },
  {
   "cell_type": "code",
   "execution_count": 2,
   "metadata": {},
   "outputs": [],
   "source": [
    "# !python dqn_script_gw.py"
   ]
  },
  {
   "cell_type": "code",
   "execution_count": 3,
   "metadata": {},
   "outputs": [],
   "source": [
    "import numpy as np\n",
    "import torch\n",
    "from environment.Gridworld import Gridworld\n",
    "from IPython.display import clear_output\n",
    "import random\n",
    "from matplotlib import pylab as plt\n",
    "from collections import deque\n",
    "from tests.test_gw import *\n",
    "from environment.MarketEnv import MarketEnv\n",
    "from common.properties import *\n",
    "from dqn_net import DQNNet\n",
    "from tests.test_gw import *"
   ]
  },
  {
   "cell_type": "code",
   "execution_count": 4,
   "metadata": {},
   "outputs": [
    {
     "name": "stdout",
     "output_type": "stream",
     "text": [
      "1999 0.05193064734339714\n"
     ]
    }
   ],
   "source": [
    "STATE_DIM = 64 # GW\n",
    "DQNModel = DQNNet(state_dim = STATE_DIM, output_size = 4) # GW\n",
    "\n",
    "target_net = copy.deepcopy(DQNModel.model)\n",
    "target_net.load_state_dict(DQNModel.model.state_dict())\n",
    "\n",
    "for i in range(epochs):\n",
    "    game = Gridworld(size=4, mode='random') # GW\n",
    "    rendered_game_boad_1 = game.board.render_np()\n",
    "    state1_ = game.board.render_np().reshape(1,64) + np.random.rand(1,64)/100.0\n",
    "    state1 = torch.from_numpy(state1_).float().to(device = devid)\n",
    "\n",
    "    status = 1\n",
    "    mov = 0\n",
    "\n",
    "    while(status == 1): \n",
    "        j+=1\n",
    "        mov += 1\n",
    "        qval = DQNModel(state1)\n",
    "        \n",
    "        if not torch.cuda.is_available():\n",
    "            qval_ = qval.data.numpy()\n",
    "        else:\n",
    "            qval_ = qval.data.cpu().numpy()\n",
    "        \n",
    "        if (random.random() < epsilon):\n",
    "            action_ = np.random.randint(0,4)\n",
    "        else:\n",
    "            action_ = np.argmax(qval_)\n",
    "        \n",
    "        reward, state2, done = game.step(action_)\n",
    "        exp = (state1, action_, reward, state2, done)\n",
    "        \n",
    "        replay.append(exp)\n",
    "        state1 = state2\n",
    "        \n",
    "        if len(replay) > batch_size:\n",
    "            minibatch = random.sample(replay, batch_size)\n",
    "            Q1, Q2, X, Y, loss = DQNModel.batch_update(minibatch, target_net, STATE_DIM)\n",
    "\n",
    "            print(i, loss.item())\n",
    "            clear_output(wait=True)\n",
    "\n",
    "            DQNModel.optimizer.zero_grad()\n",
    "            loss.backward()\n",
    "            losses.append(loss.item())\n",
    "            DQNModel.optimizer.step()\n",
    "            \n",
    "            if j % sync_freq == 0:\n",
    "                target_net.load_state_dict(DQNModel.model.state_dict())\n",
    "        \n",
    "        if done or mov > max_moves:\n",
    "            status = 0\n",
    "            mov = 0\n",
    "        \n",
    "losses = np.array(losses)"
   ]
  },
  {
   "cell_type": "code",
   "execution_count": 5,
   "metadata": {},
   "outputs": [
    {
     "data": {
      "text/plain": [
       "Text(0, 0.5, 'Loss')"
      ]
     },
     "execution_count": 5,
     "metadata": {},
     "output_type": "execute_result"
    },
    {
     "data": {
      "image/png": "[encoded data removed]",
      "text/plain": [
       "<Figure size 720x504 with 1 Axes>"
      ]
     },
     "metadata": {
      "needs_background": "light"
     },
     "output_type": "display_data"
    }
   ],
   "source": [
    "plt.figure(figsize=(10,7))\n",
    "plt.plot(losses)\n",
    "plt.xlabel(\"Epochs\",fontsize=22)\n",
    "plt.ylabel(\"Loss\",fontsize=22)"
   ]
  },
  {
   "cell_type": "code",
   "execution_count": 6,
   "metadata": {},
   "outputs": [
    {
     "name": "stdout",
     "output_type": "stream",
     "text": [
      "Games played: 1000, # of wins: 847\n",
      "Win percentage: 84.7%\n"
     ]
    }
   ],
   "source": [
    "max_games = 1000\n",
    "wins = 0\n",
    "for i in range(max_games):\n",
    "    win = test_model(DQNModel.model, mode='random', display=False)\n",
    "    if win:\n",
    "        wins += 1\n",
    "win_perc = float(wins) / float(max_games)\n",
    "print(\"Games played: {0}, # of wins: {1}\".format(max_games,wins))\n",
    "print(\"Win percentage: {}%\".format(100.0*win_perc))"
   ]
  },
  {
   "cell_type": "code",
   "execution_count": null,
   "metadata": {},
   "outputs": [],
   "source": []
  }
 ],
 "metadata": {
  "interpreter": {
   "hash": "a96fb7c19b5b1285db142f1056a0db812d7358549fa55f502278878339f7abb3"
  },
  "kernelspec": {
   "display_name": "Python 3 (ipykernel)",
   "language": "python",
   "name": "python3"
  },
  "language_info": {
   "codemirror_mode": {
    "name": "ipython",
    "version": 3
   },
   "file_extension": ".py",
   "mimetype": "text/x-python",
   "name": "python",
   "nbconvert_exporter": "python",
   "pygments_lexer": "ipython3",
   "version": "3.8.12"
  }
 },
 "nbformat": 4,
 "nbformat_minor": 2
}
