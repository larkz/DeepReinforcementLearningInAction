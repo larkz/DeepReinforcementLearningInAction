{
 "cells": [
  {
   "cell_type": "code",
   "execution_count": 68,
   "metadata": {},
   "outputs": [],
   "source": [
    "from environment.TheoreticalMarket import *\n",
    "\n",
    "tm = TheoreticalMarket(beta0 = 3, beta1 = -0.1, beta2 = -0.03, a = 0.05, ref_p = 1.5)"
   ]
  },
  {
   "cell_type": "code",
   "execution_count": 69,
   "metadata": {},
   "outputs": [
    {
     "data": {
      "text/plain": [
       "[<matplotlib.lines.Line2D at 0x7fe9967f5af0>]"
      ]
     },
     "execution_count": 69,
     "metadata": {},
     "output_type": "execute_result"
    },
    {
     "data": {
      "image/png": "[encoded data removed]",
      "text/plain": [
       "<Figure size 432x288 with 1 Axes>"
      ]
     },
     "metadata": {
      "needs_background": "light"
     },
     "output_type": "display_data"
    }
   ],
   "source": [
    "\n",
    "prices = np.linspace(0.1, 2, 40)\n",
    "devs = [tm.compute_opt_dev(x) for x in prices]\n",
    "# demand = [tm.demand_func(x) for x in prices]\n",
    "\n",
    "import matplotlib.pyplot as plt\n",
    "\n",
    "plt.plot(prices, devs)\n",
    "# plt.plot(prices, demand)"
   ]
  },
  {
   "cell_type": "code",
   "execution_count": 57,
   "metadata": {},
   "outputs": [
    {
     "data": {
      "text/plain": [
       "0.017955906145069797"
      ]
     },
     "execution_count": 57,
     "metadata": {},
     "output_type": "execute_result"
    }
   ],
   "source": [
    "tm.compute_opt_dev(1)"
   ]
  },
  {
   "cell_type": "code",
   "execution_count": 58,
   "metadata": {},
   "outputs": [
    {
     "data": {
      "text/plain": [
       "[1.3739935312727687,\n",
       " 0.6328941010855718,\n",
       " 0.3655947976422006,\n",
       " 0.23931699857063768,\n",
       " 0.169594595722134,\n",
       " 0.126958638101611,\n",
       " 0.09893263646397439,\n",
       " 0.07949050702294878,\n",
       " 0.06542833280344665,\n",
       " 0.05491307247849577,\n",
       " 0.04683345125150239,\n",
       " 0.04048336105984669,\n",
       " 0.03539634756929241,\n",
       " 0.03125401644519656,\n",
       " 0.027832876322656595,\n",
       " 0.024972216848632843,\n",
       " 0.02255401131557245,\n",
       " 0.020489956585045474,\n",
       " 0.0187128907268303,\n",
       " 0.017170974467749445,\n",
       " 0.015823662845522474,\n",
       " 0.014638863306988001,\n",
       " 0.013590896480227783,\n",
       " 0.012659010196046414,\n",
       " 0.011826281350793603,\n",
       " 0.011078793889002556,\n",
       " 0.010405016170415464,\n",
       " 0.009795324199086792,\n",
       " 0.009241632850581227,\n",
       " 0.008737107957662811,\n",
       " 0.008275939564226778,\n",
       " 0.007853161899787641,\n",
       " 0.00746450936150527,\n",
       " 0.007106300481579739,\n",
       " 0.006775343817301878,\n",
       " 0.006468861142169695,\n",
       " 0.0061844243863313254,\n",
       " 0.005919903575853978,\n",
       " 0.005673423625379118,\n",
       " 0.0054433282992283364]"
      ]
     },
     "execution_count": 58,
     "metadata": {},
     "output_type": "execute_result"
    }
   ],
   "source": [
    "devs"
   ]
  },
  {
   "cell_type": "code",
   "execution_count": 59,
   "metadata": {},
   "outputs": [
    {
     "data": {
      "text/plain": [
       "0.00906396339373952"
      ]
     },
     "execution_count": 59,
     "metadata": {},
     "output_type": "execute_result"
    }
   ],
   "source": [
    "tm.compute_profit(0.01, np.array([0.01, 0.02, 0.02]))"
   ]
  },
  {
   "cell_type": "code",
   "execution_count": 60,
   "metadata": {},
   "outputs": [
    {
     "data": {
      "text/plain": [
       "2.636275146009085"
      ]
     },
     "execution_count": 60,
     "metadata": {},
     "output_type": "execute_result"
    }
   ],
   "source": [
    "tm.get_c2(0.01)"
   ]
  },
  {
   "cell_type": "code",
   "execution_count": 61,
   "metadata": {},
   "outputs": [
    {
     "data": {
      "text/plain": [
       "4.9312"
      ]
     },
     "execution_count": 61,
     "metadata": {},
     "output_type": "execute_result"
    }
   ],
   "source": [
    "tm.demand_func(0.01)"
   ]
  },
  {
   "cell_type": "code",
   "execution_count": null,
   "metadata": {},
   "outputs": [],
   "source": []
  }
 ],
 "metadata": {
  "interpreter": {
   "hash": "870cddec6c8f45879887843070bc4155360ee9973f7ea74b4418fb17767bd17a"
  },
  "kernelspec": {
   "display_name": "Python 3.8.10 ('.dqn-cpu-env': venv)",
   "language": "python",
   "name": "python3"
  },
  "language_info": {
   "codemirror_mode": {
    "name": "ipython",
    "version": 3
   },
   "file_extension": ".py",
   "mimetype": "text/x-python",
   "name": "python",
   "nbconvert_exporter": "python",
   "pygments_lexer": "ipython3",
   "version": "3.8.10"
  },
  "orig_nbformat": 4
 },
 "nbformat": 4,
 "nbformat_minor": 2
}
